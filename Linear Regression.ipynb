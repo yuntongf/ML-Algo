{
 "cells": [
  {
   "cell_type": "markdown",
   "metadata": {
    "cell_id": "0fa349804d24474bab2dc781ed655253",
    "deepnote_cell_type": "text-cell-h1",
    "formattedRanges": [],
    "is_collapsed": false,
    "tags": []
   },
   "source": [
    "#  Lab 1: Grade Point Average Prediction"
   ]
  },
  {
   "cell_type": "markdown",
   "metadata": {
    "cell_id": "49d97461e4aa44e9850fa74b73f6b3b0",
    "deepnote_cell_type": "text-cell-h2",
    "formattedRanges": [],
    "is_collapsed": false,
    "tags": []
   },
   "source": [
    "## 1.A: Data, Models and Decisions"
   ]
  },
  {
   "cell_type": "markdown",
   "metadata": {
    "cell_id": "0f97614024b4492fb9a8f7ae7689022b",
    "deepnote_cell_type": "text-cell-p",
    "formattedRanges": [],
    "is_collapsed": false,
    "tags": []
   },
   "source": [
    "In this Lab we are tasked with designing a system to make admission decisions at the University of Pennsylvania (Penn). In order to design this system we need to specify requirements, acquire data and create a model to substantiate our decisions. "
   ]
  },
  {
   "cell_type": "markdown",
   "metadata": {
    "cell_id": "fa4108e9dd70478eb5ea5b3f358c45b7",
    "deepnote_cell_type": "text-cell-h2",
    "formattedRanges": [],
    "is_collapsed": false,
    "tags": []
   },
   "source": [
    "## Environment setup"
   ]
  },
  {
   "cell_type": "markdown",
   "metadata": {
    "cell_id": "1f0d172e1b1b417988af7188c5766914",
    "deepnote_cell_type": "text-cell-p",
    "formattedRanges": [],
    "is_collapsed": false,
    "tags": []
   },
   "source": [
    "We will first import the necessary Python Packages. We will use Numpy to load the data, pytorch to process it and matplotlib to plot and visualize results."
   ]
  },
  {
   "cell_type": "code",
   "execution_count": 1,
   "metadata": {
    "cell_id": "730abd12ac324eeebb068924bc453556",
    "deepnote_cell_type": "code",
    "deepnote_to_be_reexecuted": false,
    "execution_millis": 3749,
    "execution_start": 1673915623621,
    "source_hash": "83172c47",
    "tags": []
   },
   "outputs": [],
   "source": [
    "# Import libraries used for this lab\n",
    "import numpy as np\n",
    "import matplotlib.pyplot as plt\n",
    "import torch\n",
    "import torch.nn as nn\n",
    "torch.set_default_dtype(torch.float64)\n",
    "# Set plotting default parameters\n",
    "plt.style.use('default')\n",
    "plt.rcParams['font.size'] = '14'"
   ]
  },
  {
   "cell_type": "markdown",
   "metadata": {
    "cell_id": "8281f659baf44f8587a9733d27583f40",
    "deepnote_cell_type": "text-cell-h2",
    "formattedRanges": [],
    "is_collapsed": false,
    "tags": []
   },
   "source": [
    "## Data "
   ]
  },
  {
   "cell_type": "markdown",
   "metadata": {
    "cell_id": "d6610e5a36d6446a9f9a819bc1e155ef",
    "deepnote_cell_type": "text-cell-p",
    "formattedRanges": [
     {
      "fromCodePoint": 20,
      "marks": {
       "bold": true
      },
      "toCodePoint": 26,
      "type": "marks"
     }
    ],
    "is_collapsed": false,
    "tags": []
   },
   "source": [
    "For a collection of former students we have access to their high school (HS) grade point average (GPA), their Scholastic Assessment Test (SAT) scores, their gender and their Penn GPA. "
   ]
  },
  {
   "cell_type": "markdown",
   "metadata": {
    "cell_id": "42801e4cf7d34d7898ef3b231d9a8d1d",
    "deepnote_cell_type": "text-cell-p",
    "formattedRanges": [],
    "is_collapsed": false,
    "tags": []
   },
   "source": [
    "Figure 4 shows plots in which the horizontal axes are high school GPAs or SAT scores and the vertical axes are Penn GPAs. These plots show that high school GPA is predictive of Penn GPA. Although there is significant variation we can see that higher high school GPA corresponds with higher Penn GPA. This indicates that high school GPAs are useful information for admission decisions as they can predict with some accuracy the GPA that an admitted student may attain at Penn. We can squint and see that the same is more or less true of SAT scores, although the correlation between SAT scores and Penn GPA is weaker. "
   ]
  },
  {
   "cell_type": "markdown",
   "metadata": {
    "cell_id": "243a46ee2dbf40208aa8ba6daee9cc8c",
    "deepnote_cell_type": "text-cell-p",
    "formattedRanges": [
     {
      "fromCodePoint": 0,
      "marks": {
       "bold": true,
       "italic": true,
       "underline": true
      },
      "toCodePoint": 6,
      "type": "marks"
     },
     {
      "fromCodePoint": 6,
      "marks": {
       "bold": true,
       "italic": true
      },
      "toCodePoint": 10,
      "type": "marks"
     },
     {
      "fromCodePoint": 10,
      "marks": {
       "bold": true
      },
      "toCodePoint": 47,
      "type": "marks"
     },
     {
      "fromCodePoint": 47,
      "ranges": [
       {
        "fromCodePoint": 0,
        "marks": {
         "bold": true
        },
        "toCodePoint": 68,
        "type": "marks"
       }
      ],
      "toCodePoint": 115,
      "type": "link",
      "url": "https://dsd.seas.upenn.edu/wp-content/uploads/2023/01/Lab1_DSD-1.zip"
     },
     {
      "fromCodePoint": 115,
      "marks": {
       "bold": true
      },
      "toCodePoint": 150,
      "type": "marks"
     }
    ],
    "is_collapsed": false,
    "tags": []
   },
   "source": [
    "**Task 1**    Load the GPA and SAT score data from https://dsd.seas.upenn.edu/wp-content/uploads/2023/01/Lab1_DSD-1.zip. Reproduce the plots in Figure 4. "
   ]
  },
  {
   "cell_type": "markdown",
   "metadata": {
    "cell_id": "b0f733294fe449df8d7f91722a3e5db8",
    "deepnote_cell_type": "text-cell-h3",
    "formattedRanges": [],
    "is_collapsed": false,
    "tags": []
   },
   "source": [
    "### Data Loading"
   ]
  },
  {
   "cell_type": "code",
   "execution_count": 2,
   "metadata": {
    "cell_id": "b80b26a6d3204bd09eb46e71016212fb",
    "deepnote_cell_type": "code",
    "deepnote_to_be_reexecuted": false,
    "execution_millis": 18,
    "execution_start": 1673915627377,
    "source_hash": "be26463c",
    "tags": []
   },
   "outputs": [
    {
     "name": "stdout",
     "output_type": "stream",
     "text": [
      "Number of students: 600\n",
      "Number of variables: 5\n",
      "\n",
      "Example student: \n",
      "High-school GPA: 3.79 \t SAT score: 1540.0\t Penn GPA: 3.53\t Female 0.0\t Male 1.0\n"
     ]
    }
   ],
   "source": [
    "# We will use numpy.genfromtxt to load the CSV into a numpy array\n",
    "# And then convert it to a pytorch tensor\n",
    "data = torch.from_numpy( np.genfromtxt ('data.csv', delimiter=\",\", skip_header=1, dtype = float ) )\n",
    "\n",
    "print(f\"Number of students: {data.shape[0]}\")\n",
    "print(f\"Number of variables: {data.shape[1]}\")\n",
    "print(f\"\\nExample student: \\nHigh-school GPA: {data[0, 0]} \\t SAT score: {data[0, 1]}\\t Penn GPA: {data[0, 2]}\\t Female {data[0, 3]}\\t Male {data[0, 4]}\")"
   ]
  },
  {
   "cell_type": "markdown",
   "metadata": {
    "cell_id": "c91b28ae1078436c922c32b6b24fa953",
    "deepnote_cell_type": "text-cell-h3",
    "formattedRanges": [],
    "is_collapsed": false,
    "tags": []
   },
   "source": [
    "### Correlation Analysis"
   ]
  },
  {
   "cell_type": "code",
   "execution_count": 3,
   "metadata": {
    "cell_id": "01037ecc2ad24a32b18b39c4f3550b80",
    "deepnote_cell_type": "code",
    "deepnote_to_be_reexecuted": false,
    "execution_millis": 3452591,
    "execution_start": 1673915627403,
    "source_hash": "df62f880",
    "tags": []
   },
   "outputs": [],
   "source": [
    "# We will store each column in a variable\n",
    "high_school_gpa = data[:,0]\n",
    "sat_scores = data[:,1]\n",
    "penn_gpa = data[:,2]"
   ]
  },
  {
   "cell_type": "code",
   "execution_count": 4,
   "metadata": {
    "cell_id": "437b8d97831f4c35afc7bee57ffae194",
    "deepnote_cell_type": "code",
    "deepnote_to_be_reexecuted": false,
    "execution_millis": 1231,
    "execution_start": 1673915627447,
    "source_hash": "61f2b97a",
    "tags": []
   },
   "outputs": [
    {
     "data": {
      "image/png": "[encoded data removed]",
      "text/plain": [
       "<Figure size 640x480 with 1 Axes>"
      ]
     },
     "metadata": {},
     "output_type": "display_data"
    }
   ],
   "source": [
    "# Plot the data\n",
    "plt.plot(high_school_gpa, penn_gpa, \".\")\n",
    "\n",
    "# Adjust axis\n",
    "plt.xlim([3.4, 4.2])\n",
    "plt.ylim([3, 4.2])\n",
    "\n",
    "# Label axes\n",
    "plt.xlabel(\"High-School GPA\")\n",
    "plt.ylabel(\"Penn GPA\")\n",
    "plt.savefig(\"HSGPAvsPennGPA.pdf\")"
   ]
  },
  {
   "cell_type": "code",
   "execution_count": 5,
   "metadata": {
    "cell_id": "7ca97562f5494707bb535b401cdae0c8",
    "deepnote_cell_type": "code",
    "deepnote_to_be_reexecuted": false,
    "execution_millis": 616,
    "execution_start": 1673915628691,
    "source_hash": "ef482d1f",
    "tags": []
   },
   "outputs": [
    {
     "data": {
      "image/png": "[encoded data removed]",
      "text/plain": [
       "<Figure size 640x480 with 1 Axes>"
      ]
     },
     "metadata": {},
     "output_type": "display_data"
    }
   ],
   "source": [
    "plt.plot(sat_scores, penn_gpa, \".\")\n",
    "plt.xlim([1350, 1650])\n",
    "plt.ylim([3, 4.2])\n",
    "plt.xlabel(\"SAT score\")\n",
    "plt.ylabel(\"Penn GPA\")\n",
    "plt.savefig(\"SATvsPennGPA.pdf\")"
   ]
  },
  {
   "cell_type": "markdown",
   "metadata": {
    "cell_id": "eb854639563a475eb69ecb3b91e558ad",
    "deepnote_cell_type": "text-cell-h2",
    "formattedRanges": [],
    "is_collapsed": false,
    "tags": []
   },
   "source": [
    "## "
   ]
  },
  {
   "cell_type": "markdown",
   "metadata": {
    "cell_id": "d9701a4dbd6d4e49886f32bb695481b2",
    "deepnote_cell_type": "text-cell-h2",
    "formattedRanges": [],
    "is_collapsed": false,
    "tags": []
   },
   "source": [
    "## Models"
   ]
  },
  {
   "cell_type": "markdown",
   "metadata": {
    "cell_id": "31c4af725c9c4390bccd98fb9ef99944",
    "deepnote_cell_type": "text-cell-p",
    "formattedRanges": [
     {
      "fromCodePoint": 41,
      "marks": {
       "bold": true
      },
      "toCodePoint": 46,
      "type": "marks"
     }
    ],
    "is_collapsed": false,
    "tags": []
   },
   "source": [
    "To make admission decisions we build the model of Penn shown in Figure 5. This model takes as inputs high school GPA, SAT scores and gender information of a student and produces as an output the Penn GPA of the corresponding graduate. If we define the input data as a vector $x = [\\text{HS GPA}; \\text{SAT}; \\text{Gender}]$ and we denote the output as $y = \\text{Penn GPA}$ we can represent this model as the function,\n",
    "\n",
    "\\begin{equation}\n",
    " \\text{Penn GPA} \n",
    "    ~=~ y \n",
    "    ~=~ P(x) \n",
    "    ~=~ P \\left[ \n",
    "             \\begin{array}{l} \n",
    "                \\text{HS GPA} \\\\ \n",
    "                \\text{SAT}    \\\\ \n",
    "                \\text{Gender}\n",
    "             \\end{array}\n",
    "          \\right] \\ .\n",
    "\\end{equation}"
   ]
  },
  {
   "cell_type": "markdown",
   "metadata": {
    "cell_id": "938852828c264bf4811a9a633b79dddf",
    "deepnote_cell_type": "text-cell-h2",
    "formattedRanges": [],
    "is_collapsed": false,
    "tags": []
   },
   "source": [
    "## Decisions"
   ]
  },
  {
   "cell_type": "markdown",
   "metadata": {
    "cell_id": "628660d31ef746478beacfa5e01ce534",
    "deepnote_cell_type": "text-cell-p",
    "formattedRanges": [],
    "is_collapsed": false,
    "tags": []
   },
   "source": [
    "To make admission decisions we leverage the model and data from the previous sections."
   ]
  },
  {
   "cell_type": "markdown",
   "metadata": {
    "cell_id": "648f6626e8094a06806e4b11cd21c9f5",
    "deepnote_cell_type": "text-cell-p",
    "formattedRanges": [],
    "is_collapsed": false,
    "tags": []
   },
   "source": [
    "To make matters simpler let us begin by ignoring SAT scores and gender and attempt predictions based on high school GPAs. This means that the model in (1) is replaced by the model\n",
    "\n",
    "\\begin{equation}\\tag{2}\n",
    " \\text{Penn GPA} \n",
    "    ~=~ y \n",
    "    ~=~ P(x) \n",
    "    ~=~ P ( \\, \\text{HS GPA} \\, ) .\n",
    "\\end{equation}\n",
    "\n",
    "The function $P(x)$ is the true effect of Penn on scholastic accomplishment. This is information that becomes available after the fact. When a student graduates Penn, we have access to their high school GPA $x$ and their Penn GPA $y$. "
   ]
  },
  {
   "cell_type": "markdown",
   "metadata": {
    "cell_id": "651ab544091847d683986ff5fcabfb2e",
    "deepnote_cell_type": "text-cell-p",
    "formattedRanges": [],
    "is_collapsed": false,
    "tags": []
   },
   "source": [
    "Penn GPA predictions are to be made prior the fact. Before a student attends Penn we want to estimate their Penn GPA based on their high school GPA $x$. We *choose* to postulate a linear relationship and make predictions of the form\n",
    "\n",
    "\\begin{equation}\\tag{3}\n",
    "   \\hat{y} = \\alpha x.\n",
    "\\end{equation}\n",
    "\n",
    "In (3), $\\hat{y}$ is a *prediction* of the *true* Penn GPA $y$ that will be available after the fact. The coefficient $\\alpha$ is to be determined with the goal of making predictions $\\hat{y}$ close to to actual Penn GPA $y$.\n"
   ]
  },
  {
   "cell_type": "markdown",
   "metadata": {
    "cell_id": "1bd5f3db73fd4c728183d79539e8a560",
    "deepnote_cell_type": "text-cell-h3",
    "formattedRanges": [],
    "is_collapsed": false,
    "tags": []
   },
   "source": [
    "### Least Squares Estimation"
   ]
  },
  {
   "cell_type": "markdown",
   "metadata": {
    "cell_id": "976dfd639be046bf97dba135a2ca662a",
    "deepnote_cell_type": "text-cell-p",
    "formattedRanges": [],
    "is_collapsed": false,
    "tags": []
   },
   "source": [
    "To determine a proper value for the coefficient $\\alpha$ in (3) we utilize the data we have available on the scholastic performance of past students. Use $N$ to denote the total number of available data points. Introduce a subindex $i$ to differentiate past students so that the pair $(x_i, y_i)$ denotes the high school GPA and Penn GPA os student $i$. For these students we can make GPA *predictions* $\\hat{y}_i = \\alpha x_i$. For a given coefficient $\\alpha$ we define the mean squared error (MSE),\n",
    "\n",
    "\\begin{equation}\\tag{4}   \n",
    "   \\text{MSE}(\\alpha) \n",
    "      ~=~ \\frac{1}{N} \n",
    "             \\sum_{i=1}^{N} \\Big( y_i - \\hat{y}_i \\Big)^2\n",
    "      ~=~ \\frac{1}{N} \n",
    "             \\sum_{i=1}^{N} \\Big( y_i - \\alpha x_i \\Big)^2 .\n",
    "\\end{equation}\n",
    "\n",
    "The mean squared error $\\text{MSE}(\\alpha)$ measures the predictive power of coefficient $\\alpha$. The quantity $( y_i - \\hat{y}_i )^2$ is always nonnegative and indicates good the predicted GPA $\\hat{y}_i$ is to the true GPA $y_i$. The MSE averages this metric over all students. It follows that a natural choice for $\\alpha$ is the value that makes the MSE smallest. We therefore define the optimal coefficient\n",
    "\n",
    "\\begin{equation}\\tag{5}   \n",
    "   \\alpha^* \n",
    "      ~=~ \\text{argmin}_\\alpha \\frac{1}{2} \n",
    "             \\text{MSE}(\\alpha) \n",
    "      ~=~ \\text{argmin}_\\alpha \\frac{1}{2N} \n",
    "             \\sum_{i=1}^{N} \\Big( y_i - \\alpha x_i \\Big)^2 ,\n",
    "\\end{equation}\n",
    "\n",
    "and proceed to make Penn GPA predictions as $\\hat{y} = \\alpha^* x$. This GPA predictor is called the linear minimum mean squared error (MMSE) prediction. This is because the predictor is the linear function that minimizes the MSE. "
   ]
  },
  {
   "cell_type": "markdown",
   "metadata": {
    "cell_id": "b8541752a4404569b046856da7dcd299",
    "deepnote_cell_type": "text-cell-p",
    "formattedRanges": [
     {
      "fromCodePoint": 0,
      "marks": {
       "bold": true,
       "underline": true
      },
      "toCodePoint": 8,
      "type": "marks"
     },
     {
      "fromCodePoint": 8,
      "marks": {
       "bold": true
      },
      "toCodePoint": 117,
      "type": "marks"
     }
    ],
    "is_collapsed": false,
    "tags": []
   },
   "source": [
    "**Task 2.1 Prove that the MMSE estimator coefficient $\\alpha^*$ defined in (5) is given by the expression**\n",
    "\n",
    "\\begin{equation}\\tag{6}   \n",
    "   \\alpha^* \n",
    "      = \\sum_{i=1}^{N} x_i y_i ~\\bigg/~\n",
    "        \\sum_{i=1}^{N} x_i^2 .\n",
    "\\end{equation}\n",
    "\n",
    "Compute $\\alpha^*$ for the data loaded in Task 1. Plot the Penn GPA with respect to HS GPA and superimpose the prediction line $\\hat{y} = \\alpha^* x$."
   ]
  },
  {
   "cell_type": "code",
   "execution_count": 6,
   "metadata": {
    "cell_id": "5924adfbd838499c9fe3c731aa8efd16",
    "deepnote_cell_type": "code",
    "deepnote_to_be_reexecuted": false,
    "execution_millis": 3,
    "execution_start": 1673915629312,
    "source_hash": "f5e8be95",
    "tags": []
   },
   "outputs": [],
   "source": [
    "# Unsqueeze turns a vector of dimension N to a vector of dimension (N, 1) so that we can transpose it.\n",
    "x = high_school_gpa.unsqueeze(1)\n",
    "y = penn_gpa"
   ]
  },
  {
   "cell_type": "code",
   "execution_count": 7,
   "metadata": {},
   "outputs": [
    {
     "name": "stdout",
     "output_type": "stream",
     "text": [
      "alpha = 0.938\n"
     ]
    }
   ],
   "source": [
    "# Simple computation of alpha with a for loop\n",
    "numerator = 0\n",
    "denominator = 0\n",
    "for i in range(len(x)):\n",
    "    numerator += x[i]*y[i]\n",
    "    denominator += x[i]**2\n",
    "alpha = numerator/denominator\n",
    "print(f\"alpha = {alpha[0]:.3f}\")"
   ]
  },
  {
   "cell_type": "code",
   "execution_count": 8,
   "metadata": {
    "cell_id": "bc46caf61a4a4e809ddb57e9a2418663",
    "deepnote_cell_type": "code",
    "deepnote_to_be_reexecuted": false,
    "execution_millis": 64,
    "execution_start": 1673915629318,
    "source_hash": "da129a92",
    "tags": []
   },
   "outputs": [
    {
     "name": "stdout",
     "output_type": "stream",
     "text": [
      "Optimal predictor in the mean squared error sense: \n",
      "Predicted Penn GPA = 0.938 * High-School GPA \n"
     ]
    }
   ],
   "source": [
    "# A@B computes matrix multiplication, .T trasposes a tensor\n",
    "# a**(-1) is a^-1 (elementwise inverse, not matrix inverse)\n",
    "alpha = (x.T@x)**(-1)*x.T@y\n",
    "print(f\"Optimal predictor in the mean squared error sense: \\nPredicted Penn GPA = {alpha.item():.3f} * High-School GPA \")"
   ]
  },
  {
   "cell_type": "code",
   "execution_count": 9,
   "metadata": {
    "cell_id": "147291dd82dd4b0cb3eec876b4514c4a",
    "deepnote_cell_type": "code",
    "deepnote_to_be_reexecuted": false,
    "execution_millis": 7,
    "execution_start": 1673915629395,
    "source_hash": "db50f099",
    "tags": []
   },
   "outputs": [],
   "source": [
    "y_pred = x*alpha"
   ]
  },
  {
   "cell_type": "code",
   "execution_count": 10,
   "metadata": {
    "cell_id": "e513805be8fc423b86db904c23e914eb",
    "deepnote_cell_type": "code",
    "deepnote_to_be_reexecuted": false,
    "execution_millis": 779,
    "execution_start": 1673915629415,
    "source_hash": "161ecc04",
    "tags": []
   },
   "outputs": [
    {
     "data": {
      "image/png": "[encoded data removed]",
      "text/plain": [
       "<Figure size 640x480 with 1 Axes>"
      ]
     },
     "metadata": {},
     "output_type": "display_data"
    }
   ],
   "source": [
    "plt.plot(high_school_gpa, penn_gpa, '.', label = \"True Penn GPA\")\n",
    "plt.plot(high_school_gpa, y_pred, label = \"Predicted Penn GPA\")\n",
    "plt.legend()\n",
    "\n",
    "# Adjust axis\n",
    "plt.xlim([3.4, 4.2])\n",
    "plt.ylim([3.2, 4])\n",
    "\n",
    "# Label axes\n",
    "plt.xlabel(\"High-School GPA\")\n",
    "plt.ylabel(\"Penn GPA\")\n",
    "plt.savefig(\"linear_model_HSGPA.pdf\")"
   ]
  },
  {
   "cell_type": "markdown",
   "metadata": {
    "cell_id": "c1fd63fcd5ef41f196966fa26212b7b1",
    "deepnote_cell_type": "text-cell-p",
    "formattedRanges": [
     {
      "fromCodePoint": 329,
      "marks": {
       "bold": true,
       "underline": true
      },
      "toCodePoint": 337,
      "type": "marks"
     },
     {
      "fromCodePoint": 337,
      "marks": {
       "bold": true
      },
      "toCodePoint": 424,
      "type": "marks"
     }
    ],
    "is_collapsed": false,
    "tags": []
   },
   "source": [
    "We evaluate the merit of $\\alpha^*$ with the root mean squared error (RMSE)\n",
    "\n",
    "\\begin{equation}\\tag{7}   \n",
    "   \\text{MSE}(\\alpha) \n",
    "      ~=~ \\sqrt { \\text{MSE}(\\alpha) }\n",
    "      ~=~ \\Bigg [\\, \n",
    "             \\frac{1}{N} \n",
    "                \\sum_{i=1}^{N} \\Big( y_i - \\alpha x_i \\Big)^2 \\,\n",
    "          \\Bigg]^{1/2}.\n",
    "\\end{equation}\n",
    "\n",
    "**Task 2.2** Compute the RMSE of $\\alpha^*$ and comment on the quality of the Penn GPA predictions."
   ]
  },
  {
   "cell_type": "code",
   "execution_count": 11,
   "metadata": {
    "cell_id": "68787083f5b64f00bb03f8380abb9be2",
    "deepnote_cell_type": "code",
    "deepnote_to_be_reexecuted": false,
    "execution_millis": 16,
    "execution_start": 1673915630196,
    "source_hash": "5675602c",
    "tags": []
   },
   "outputs": [
    {
     "name": "stdout",
     "output_type": "stream",
     "text": [
      "The root mean squared error is: 0.105\n"
     ]
    }
   ],
   "source": [
    "# compute squared difference between each prediction (y_i-ypred_i)^2\n",
    "# y = x**2 returns a tensor with where each element is y_i = (x_i)^2\n",
    "squared_error = (y-y_pred.squeeze())**2\n",
    "# average over all elements (students)\n",
    "mean_squared_error = torch.mean(squared_error)\n",
    "# compute its square root\n",
    "r_mean_squared_error = torch.sqrt(mean_squared_error)\n",
    "print(f\"The root mean squared error is: {r_mean_squared_error:.3f}\")"
   ]
  },
  {
   "cell_type": "markdown",
   "metadata": {
    "cell_id": "203b163c59e54b17940c57aee67e269f",
    "deepnote_cell_type": "markdown"
   },
   "source": [
    "In Task 2.2 we make predictions of the Penn GPA of students that have graduated Penn.\n",
    "Predicting Penn GPAs of past students is unnecessary given that we already know their true GPAs. \n",
    "Our motivation for solving this unnecessary problem is to determine the coefficient $\\alpha^*$ that we can use to make predictions $\\hat{y} = \\alpha^* x$ of students that have not yet attended Penn -- for which $x$ is available but $y$ is not.\n",
    "The effectiveness of this prediction depends on the extent to which the past is a good representation of the future.  \n",
    "\n",
    "It is germane to emphasize that in Task 2.2 we are using something we know -- the GPA of former students -- to answer a new question -- the GPA of a prospective student.\n",
    "However primitive, this is a form of intelligence."
   ]
  },
  {
   "cell_type": "markdown",
   "metadata": {
    "cell_id": "1d09b3f6b41f435f99d302e82d83ceae",
    "deepnote_cell_type": "markdown"
   },
   "source": [
    "## Linear Regression\n",
    "\n",
    "We consider now a more complete model in which the Penn GPA is deemed to depend on the high school GPA and the SAT score. We therefore define the input vector  $x = [x_1; x_2] = [\\text{HS GPA}; \\text{SAT}; \\text{Gender}]$ \n",
    "\n",
    "\\begin{equation}\\tag{8}\n",
    " \\text{Penn GPA} \n",
    "    ~=~ y \n",
    "    ~=~ P(x) \n",
    "    ~=~ P \\left[ \n",
    "             \\begin{array}{l} \n",
    "                x_1 \\\\ \n",
    "                x_2 \\\\ \n",
    "             \\end{array}\n",
    "          \\right] \\ .\n",
    "    ~=~ P \\left[ \n",
    "             \\begin{array}{l} \n",
    "                \\text{HS GPA} \\\\ \n",
    "                \\text{SAT}    \\\\ \n",
    "             \\end{array}\n",
    "          \\right] \\ .\n",
    "\\end{equation}\n",
    "\n",
    "To make Penn GPA predictions we postulate an input-output relationship of the form\n",
    "\n",
    "\\begin{equation}\\tag{9}\n",
    "   \\hat{y} \n",
    "      ~=~ w_1 x_1 + w_2 x_2\n",
    "      ~=~ w^T x .\n",
    "\\end{equation}\n",
    "\n",
    "As is the case of (3),  $\\hat{y}$ in (9) is a *prediction* of the *true* Penn GPA $y$ that will be available after the fact. The coefficient $w=[w_1; w_2]$ is to be determined with the goal of making predictions $\\hat{y}$ close to to actual Penn GPA $y$.\n",
    "\n",
    "**Task 3** Define and compute the MMSE estimator coefficients $w^*$, that would extend the MMSE definition in (5). Show that this coefficient is given by the expression\n",
    "\n",
    "\\begin{equation}\\tag{10}  \n",
    "   w^* \n",
    "      = \\Bigg[ \\sum_{i=1}^{N} x_i x_i^T \\Bigg]^{-1} \n",
    "        \\sum_{i=1}^{N} x_i y_i \n",
    "         .\n",
    "\\end{equation}\n",
    "\n",
    "Compute $w^*$ for the data loaded in Task 1. Compute the RMSE of $w^*$ and comment on the quality of the Penn GPA predictions."
   ]
  },
  {
   "cell_type": "code",
   "execution_count": 12,
   "metadata": {
    "cell_id": "4c558acf1ed64bcb8b32de51a13ae9ed",
    "deepnote_cell_type": "code",
    "deepnote_to_be_reexecuted": false,
    "execution_millis": 46,
    "execution_start": 1673915630267,
    "source_hash": "a9f16736",
    "tags": []
   },
   "outputs": [
    {
     "name": "stdout",
     "output_type": "stream",
     "text": [
      "Optimal predictor: \n",
      "Predicted Penn GPA = 0.7144 * High-School GPA + 0.0006 * SAT score\n"
     ]
    }
   ],
   "source": [
    "# We use both HS GPA and SAT scores\n",
    "x = data[:,:2] \n",
    "y = penn_gpa\n",
    "#  torch.linalg.inv computes matrix inverse\n",
    "w = torch.linalg.inv(x.T@x)@x.T@y\n",
    "print(f\"Optimal predictor: \\nPredicted Penn GPA = {w[0].item():.4f} * High-School GPA + {w[1].item():.4f} * SAT score\")"
   ]
  },
  {
   "cell_type": "code",
   "execution_count": 13,
   "metadata": {
    "cell_id": "8b4e0b461bd24ac2bd121026a716552f",
    "deepnote_cell_type": "code",
    "deepnote_to_be_reexecuted": false,
    "execution_millis": 3310712,
    "execution_start": 1673915630312,
    "source_hash": "c7e8fe34",
    "tags": []
   },
   "outputs": [
    {
     "name": "stdout",
     "output_type": "stream",
     "text": [
      "The root mean squared error is: 0.100\n"
     ]
    }
   ],
   "source": [
    "# compute predictions with optimal w\n",
    "y_pred = x@w\n",
    "# calculate its RMSE\n",
    "mean_squared_error = torch.mean((y-y_pred)**2)\n",
    "root_mean_squared_error = torch.sqrt(mean_squared_error)\n",
    "print(f\"The root mean squared error is: {root_mean_squared_error:.3f}\")"
   ]
  }
 ],
 "metadata": {
  "deepnote": {},
  "deepnote_execution_queue": [],
  "deepnote_notebook_id": "cc8b90cae1834a8bbbaac58e7cc544af",
  "deepnote_persisted_session": {
   "createdAt": "2023-01-17T01:00:20.186Z"
  },
  "kernelspec": {
   "display_name": "Python 3 (ipykernel)",
   "language": "python",
   "name": "python3"
  },
  "language_info": {
   "codemirror_mode": {
    "name": "ipython",
    "version": 3
   },
   "file_extension": ".py",
   "mimetype": "text/x-python",
   "name": "python",
   "nbconvert_exporter": "python",
   "pygments_lexer": "ipython3",
   "version": "3.8.16"
  },
  "vscode": {
   "interpreter": {
    "hash": "c2a05ab193a4641e78e83ae2725bff312e3826d3d49003ac5b780af377042436"
   }
  }
 },
 "nbformat": 4,
 "nbformat_minor": 1
}
