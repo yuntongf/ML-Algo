{
 "cells": [
  {
   "cell_type": "markdown",
   "metadata": {},
   "source": [
    "#  Lab 1: Grade Point Average Prediction\n",
    "\n",
    "In this Lab we are tasked with designing a system to make admission decisions at the University of Pennsylvania (Penn). In order to design this system we need to acquire data and create a model to substantiate our decisions.\n",
    "\n",
    "## Lab 1C Neural Networks\n",
    "\n",
    "## 0. Environment setup\n",
    "\n"
   ]
  },
  {
   "cell_type": "code",
   "execution_count": 11,
   "metadata": {
    "tags": []
   },
   "outputs": [
    {
     "name": "stdout",
     "output_type": "stream",
     "text": [
      "Number of students: 600\n",
      "Number of variables: 5\n",
      "\n",
      "Example student: \n",
      "High-school GPA: 3.79 \t SAT score: 1540.0\t Penn GPA: 3.53\t Female 0.0\t Male 1.0\n"
     ]
    }
   ],
   "source": [
    "import numpy as np\n",
    "import matplotlib.pyplot as plt\n",
    "import torch\n",
    "import torch.nn as nn\n",
    "from torch.nn.functional import relu\n",
    "import random\n",
    "#random generator seed for reproducibility\n",
    "np.random.seed(1)\n",
    "torch.manual_seed(1)\n",
    "random.seed(1)\n",
    "# configuration\n",
    "torch.set_default_dtype(torch.float64)\n",
    "plt.style.use('default')\n",
    "\n",
    "data = torch.from_numpy( np.genfromtxt ('data.csv', delimiter=\",\", skip_header=1, dtype = float ) )\n",
    "\n",
    "# Compute the mean and standard deviation of each variable.\n",
    "means = torch.mean(data[:,:3], dim = 0)\n",
    "stds = torch.std(data[:,:3], dim = 0)\n",
    "\n",
    "# Substract the mean and divide by the std each variable.\n",
    "data_norm = data.clone()\n",
    "data_norm[:, :3] = (data[:, :3] - means) / stds \n",
    "\n",
    "# We use both the normalized HS GPA and the SAT scores\n",
    "x = data_norm[:,:2] \n",
    "\n",
    "# The targets are the normalized Penn GPA values\n",
    "y = data_norm[:,2]\n",
    "\n",
    "print(f\"Number of students: {data.shape[0]}\")\n",
    "print(f\"Number of variables: {data.shape[1]}\")\n",
    "print(f\"\\nExample student: \\nHigh-school GPA: {data[0, 0]} \\t SAT score: {data[0, 1]}\\t Penn GPA: {data[0, 2]}\\t Female {data[0, 3]}\\t Male {data[0, 4]}\")"
   ]
  },
  {
   "cell_type": "markdown",
   "metadata": {},
   "source": [
    "# 1 Neural networks\n",
    "\n",
    "Neural Networks are information processing architectures made up of a composition of layers, each of which is itself the composition of a linear transformation with a pointwise nonlinearity. \n",
    "\n",
    "For a network with an arbitrary number of layers $L$ we define the input output relationship through the recursion\n",
    "\n",
    "\\begin{equation}  \n",
    "   \\mathbf{x}_0 \n",
    "      = \\mathbf{x}, \\qquad      \n",
    "   \\mathbf{x}_\\ell \n",
    "      = \\sigma \\Big(\\, \\mathbf{z}_\\ell       \\,\\Big)\n",
    "      = \\sigma \\Big(\\, \\mathbf{A}_\\ell\\mathbf{x}_{\\ell-1} \\,\\Big)  ,\\qquad\n",
    "   \\mathbf{x}_L \n",
    "      = \\mathbf{\\Phi}(\\mathbf{x}; \\mathcal{A}).\n",
    "\\end{equation}\n",
    "\n",
    "In this recursion the output of Layer $\\ell-1$ produces the output of Layer $\\ell$ as $\\mathbf{x}_\\ell = \\sigma ( \\mathbf{A}_\\ell \\mathbf{x}_{\\ell-1})$. This operation is a composition of the linear map $\\mathbf{A}_\\ell\\mathbf{x}_{\\ell-1}$ with a pointwise nonlinear function $\\sigma$. This is a function that acts separately on each individual components. To complete the recursion we redefine the input $\\mathbf{x}$ as the output of Layer 0, $\\mathbf{x}_0 = \\mathbf{x}$. The output of the neural network is the output of layer $L$, $\\mathbf{x}_L = \\mathbf{\\Phi}(\\mathbf{x}; \\mathcal{A})$. In this notation $\\mathcal{A}$ is the tensor $\\mathcal{A} := [\\mathbf{A}_1,\\ldots,\\mathbf{A}_L]$ that groups the $L$ matrices that are used at each of the $L$ layers.\n",
    "\n",
    "This training process entails solutions of an empirical risk minimization problem (ERM). For clarity, recall that we are given data pairs $(\\mathbf{x}_i, \\mathbf{y}_i)$ in which $\\mathbf{x}_i$ is the input to a system of interest and $\\mathbf{y}_i$ is the respective observed output. In the ERM problem we evaluate the neural network outputs $\\hat{\\mathbf{y}}_i:=\\mathbf{\\Phi}(\\mathbf{x}_i; \\mathcal{A})$ and compare them with the corresponding system outputs $\\mathbf{y}_i$ using a given loss functions $\\ell(\\mathbf{y}, \\hat{\\mathbf{y}})$. The ERM objective is the average of these individual losses. Thus, training a neural network implies finding the tensor $\\mathcal{A}^*$ that solves the ERM problem,\n",
    "\n",
    "\\begin{equation}\\tag{1}   \n",
    "   \\mathcal{A}^* \n",
    "      ~=~ \\operatorname{argmin}_\\mathcal{A} \n",
    "             \\frac{1}{N} \n",
    "                \\sum_{i=1}^{N} \n",
    "                   \\ell \\Big( \\mathbf{y}_i, \\mathbf{\\Phi}(\\mathbf{x}_i; \\mathcal{A}) \\Big) ~\n",
    "\\end{equation}\n",
    "\n",
    "Notice that in (1) we must have that the dimensions of the system outputs $\\mathbf{y}_i$ and the dimensions of the neural network outputs $\\hat{\\mathbf{y}}_i:=\\mathbf{\\Phi}(\\mathbf{x}_i; \\mathcal{A})$ must be the same. \n"
   ]
  },
  {
   "cell_type": "markdown",
   "metadata": {},
   "source": [
    "## 1.2 Neural network specification\n",
    "\n",
    "The input to each layer of a neural network is a vector and the output is another vector. We say that we specify a neural network when we specify the number of entries of each of these vectors. Thus, if $p_0=p$ is the number of components of the input $\\mathbf{x}_0$ and $p_\\ell$ is the number of components at the output $\\mathbf{x}_\\ell$ of layer $\\ell$ of a neural network with $L$ layers, the neural network is specified by the numbers $L$ and $p_0, p_1, \\ldots, p_L$. Of these numbers $p_0$ and $p_L$ are determined by the data because $p_0$ is the dimension of the input $\\mathbf{x}$ and $p_L$ matches the dimension of the output $\\mathbf{y}$.\n",
    "\n",
    "To complete the specification of a neural network we must also specify the nonlinearities that are used at each layer. In most cases, the same activation function is used in all layers."
   ]
  },
  {
   "cell_type": "markdown",
   "metadata": {},
   "source": [
    "## Task 1 \n",
    "Define a class to represent a neural network to process scholastic achievement data. The inputs are high school GPA and SAT scores. The output is an estimate of the Penn GPA. This neural network has 2 layers and the output of Layer 1 has dimension $p_1 = 20$. The neural network uses ReLU nonlinearities in both layers. \n",
    "\n",
    "Endow the object with a method that takes as inputs vectors $\\mathbf{x} = [\\text{HS GPA}; \\text{SAT}]$ with high school GPA and SAT scores and produces estimates of Penn GPAs."
   ]
  },
  {
   "cell_type": "markdown",
   "metadata": {},
   "source": [
    "We will define a class that inherits from torch.nn.Module as seen in tutorial 1.X Neural Networks with pytorch."
   ]
  },
  {
   "cell_type": "code",
   "execution_count": 12,
   "metadata": {
    "tags": []
   },
   "outputs": [],
   "source": [
    "class TwoL2ayerNN(torch.nn.Module):\n",
    "    def __init__(self,p1=20):\n",
    "        super().__init__()\n",
    "        # we create the linear maps for both layers by instantiating\n",
    "        # the torch.nn.Linear class\n",
    "        # the first layer has input dim 2 (SAT, GPA) and output dim p1\n",
    "        self.A1 = nn.parameter.Parameter(torch.rand(2, p1)-0.5)\n",
    "        # the second layer has input dim p1 and output dim 1 (predicted gpa)\n",
    "        self.A2 = nn.parameter.Parameter(torch.rand(p1, 1)-0.5)"
   ]
  },
  {
   "cell_type": "markdown",
   "metadata": {},
   "source": [
    "\n",
    "We begin by defining a class that inherits from nn.module and implements our to layer NN.\n",
    "To do so, we in the init method we need to define the parameters of our model.\n",
    "\n",
    "The input layer needs to have input dimension 2 (SAT, GPA) and has output diension $p_1$. The output layer has input dimension   $p_1$ and output dimension 1. In order to implement the linear transformation of each layer, we create randomly initialised parameter matrices A1 and A2 with the corresponding the input and output dimensions.\n",
    "\n",
    "Now we need to implement the forward method that given an input computes the predictions of our neural network using these previously defined parameters (A1, A2).\n"
   ]
  },
  {
   "cell_type": "code",
   "execution_count": 13,
   "metadata": {},
   "outputs": [],
   "source": [
    "from math import sqrt\n",
    "class TwoLayerNN(torch.nn.Module):\n",
    "    def __init__(self, p1=20):\n",
    "        super().__init__()\n",
    "        # the first layer has input dim 2 (SAT, GPA) and output dim p1\n",
    "        self.A1 = nn.parameter.Parameter(torch.rand(2, p1)-0.5)\n",
    "        # the second layer has input dim p1 and output dim 1 (predicted gpa)\n",
    "        self.A2 = nn.parameter.Parameter(torch.rand(p1, 1)-0.5)\n",
    "    def forward(self, x0):\n",
    "        # compute output of first layer\n",
    "        x1 = relu(torch.matmul(x0, self.A1))\n",
    "        # compute output of second layer\n",
    "        x2 = relu(torch.matmul(x1,self.A2))\n",
    "        return x2"
   ]
  },
  {
   "cell_type": "markdown",
   "metadata": {},
   "source": [
    "The forward method is a straightforward implementation of the NN parametrization. We compute the linear transformation of the inputs $A_1 x_0$ in the first layer by calling *torch.matmul(x0, self.A1)* and then apply the pointwise non linearity *relu()* to obtain the first layer output (x1). We then use x1 as an input to the second layer, which is implemented in the same way (*relu(torch.matmul(x,self.A2))*)."
   ]
  },
  {
   "cell_type": "markdown",
   "metadata": {},
   "source": [
    "## 2 Train and test sets"
   ]
  },
  {
   "cell_type": "markdown",
   "metadata": {},
   "source": [
    "The minimization of empirical risks carries a subtle challenge. To see which one, consider an ERM problem in which we do not choose a parameterization. In this case we are simply seeking an artificial intelligence $\\mathbf{\\Phi}(\\mathbf{x})$ that solves the following problem\n",
    " \n",
    "\\begin{equation}\\tag{2}\\label{eqn_erm_nonsensical}   \n",
    "   \\mathbf{\\Phi}^* \n",
    "      ~=~ \\operatorname{argmin}_{\\mathbf{\\Phi}}\n",
    "             \\frac{1}{N} \n",
    "                \\sum_{i=1}^{N} \n",
    "                   \\ell \\Big( \\mathbf{y}_i, \\mathbf{\\Phi}(\\mathbf{x}_i) \\Big) ~.\n",
    "\\end{equation}\n",
    " \n",
    "This problem is the opposite of challenging. We just choose the map $\\mathbf{\\Phi}(\\mathbf{x}_i)=y_i$ and select $\\mathbf{\\Phi}(\\mathbf{x})$ at random for any other $\\mathbf{x}$. This solution is as easy as it is nonsensical. It does not solve the artificial intelligence problem of finding a function $\\mathbf{\\Phi}(\\mathbf{x})$ that can make predictions about the future. It memorizes the past perfectly but it says nothing about future inputs that are not exact matches of some past inputs. \n",
    "\n",
    "Given that it is nonsensical there is no point in working with (2). And, indeed, we are not attempting to solve (2). We are attempting to solve the ERM problem in (1) in which predictions $\\hat{\\mathbf{y}}=\\mathbf{\\Phi}(\\mathbf{x}_i; \\mathcal{A})$ are outputs of a family of neural networks that follow some specification -- as discussed in Section 1.2. Nevertheless, there is the mystifying fact that from the perspective of empirical risk a function $\\mathbf{\\Phi}^*$ that solves (2) is at least as good, and in all likelihood better, than a function $\\mathbf{\\Phi}(\\mathbf{x}_i; \\mathcal{A}^*)$ that solves (1). Indeed, since the empirical risk of $\\mathbf{\\Phi}^*$ is null and the empirical risk is nonnegative, we must have,\n",
    " \n",
    "\\begin{equation}\\label{eqn_erm_nonsensical_better_nn}\\tag{3}   \n",
    "   ~0~ =    \\frac{1}{N} \n",
    "             \\sum_{i=1}^{N} \n",
    "                \\ell \\Big( \\mathbf{y}_i, \\mathbf{\\Phi}^*(\\mathbf{x}_i) \\Big) \n",
    "     ~\\leq~ \\frac{1}{N} \n",
    "             \\sum_{i=1}^{N} \n",
    "                \\ell \\Big( \\mathbf{y}_i, \\mathbf{\\Phi}(\\mathbf{x}_i; \\mathcal{A}^*) \\Big) .\n",
    "\\end{equation}\n",
    " \n",
    "The answer to this riddle is that the merit of an artificial intelligence is not its empirical risk but the risk it attains during operation. \n",
    "\n",
    "Suppose then that we observe $\\tilde{N}$ points $(\\tilde{\\mathbf{x}}_j, \\tilde{\\mathbf{y}}_j)$ during operation of the neural network. The true metric of performance of the neural network is its ability to make predictions $\\mathbf{\\Phi}(\\tilde{\\mathbf{x}}_j; \\mathcal{A})$ that are close to observed outcomes. This is measured but the operational risk  \n",
    "\n",
    " \n",
    "\\begin{equation}\\label{eqn_test_risk}   \n",
    "   \\tilde{r}(\\mathcal{A}) \n",
    "      ~=~ \\frac{1}{\\tilde{N}} \n",
    "             \\sum_{j=1}^{\\tilde{N}} \n",
    "                \\ell \\Big( \\tilde{\\mathbf{y}}_j, \\mathbf{\\Phi}(\\tilde{\\mathbf{x}}_j; \\mathcal{A}) \\Big) ~.\n",
    "\\end{equation}\n",
    " \n",
    "This solves the riddle of (3) because it is possible that the operational risk of the neural network is better than the operational risk of the function $\\mathbf{\\Phi}^*$. This is not just possible but does happen in practice. The reasons why this may happen or not are the subject matter of statistical learning theory. We will not study this here.\n",
    "\n",
    "Observe that the operational risk becomes available a posteriori; after the neural network goes into service and starts making predictions. To gain a handle on operational risk before service we divide available data into two sets. A training set with the $N$ samples $(\\mathbf{x}_i, \\mathbf{y}_i)$ that we use for solving (1) and a \\emph{test} set with $\\tilde{N}$ samples $(\\tilde{\\mathbf{x}}_i, \\tilde{\\mathbf{y}}_i)$ that we can use to estimate the operational risk. It is important that the test set is \\emph{not} used in training and it is important that the test set is representative of the data as a whole. In this context the operational risk is also called to test error."
   ]
  },
  {
   "attachments": {},
   "cell_type": "markdown",
   "metadata": {},
   "source": [
    "## Task 2\n",
    "\n",
    "Divide the data of Lab 1A into a test set with $\\tilde{N} = 100$ samples and use the remaining samples as a training set. Use it to train the neural network of Task 1. Try with a learning rate of $0.02$ and train for 300 epochs. Evaluate the training error and the test error. They will be different."
   ]
  },
  {
   "attachments": {},
   "cell_type": "markdown",
   "metadata": {},
   "source": [
    "We begin by partiotioning the data in two sets."
   ]
  },
  {
   "cell_type": "code",
   "execution_count": 14,
   "metadata": {},
   "outputs": [
    {
     "name": "stdout",
     "output_type": "stream",
     "text": [
      "Num Train = 500, numTest = 100\n"
     ]
    }
   ],
   "source": [
    "import torch.optim as optim\n",
    "from torch.utils.data import TensorDataset, DataLoader\n",
    "\n",
    "# Creating data indices for training and validation splits:\n",
    "dataset_size = len(x)\n",
    "indices = list(range(dataset_size))\n",
    "np.random.shuffle(indices)\n",
    "numTest = 100\n",
    "numTrain = dataset_size - numTest\n",
    "print(f\"Num Train = {numTrain}, numTest = {numTest}\")\n",
    "train_indices, test_indices = indices[numTest:], indices[:numTest]\n",
    "# Data\n",
    "train_dataset = TensorDataset(x[train_indices], y[train_indices])\n",
    "test_dataset = TensorDataset(x[test_indices], y[test_indices])"
   ]
  },
  {
   "cell_type": "code",
   "execution_count": 15,
   "metadata": {},
   "outputs": [],
   "source": [
    "def evaluate(dataloader, estimator):\n",
    "    mse = 0\n",
    "    with torch.no_grad():\n",
    "        for x_batch, y_batch in dataloader:\n",
    "            yHat = estimator.forward(x_batch).squeeze()\n",
    "            mse += torch.sum((yHat-y_batch)**2)\n",
    "    numSamples = len(dataloader.dataset)\n",
    "    mse /= numSamples\n",
    "    return mse.item()\n",
    "    "
   ]
  },
  {
   "cell_type": "code",
   "execution_count": 16,
   "metadata": {},
   "outputs": [
    {
     "name": "stdout",
     "output_type": "stream",
     "text": [
      "Train loss: 0.8016419321041909 \n",
      "Test loss: 0.9168196891837828 \n"
     ]
    },
    {
     "data": {
      "image/png": "[encoded data removed]",
      "text/plain": [
       "<Figure size 640x480 with 1 Axes>"
      ]
     },
     "metadata": {},
     "output_type": "display_data"
    }
   ],
   "source": [
    "# Specification of learning parametrization.\n",
    "estimator = TwoLayerNN(40)\n",
    "\n",
    "# Parameters used in training loop\n",
    "epsilon=0.01\n",
    "batch_size = 64\n",
    "\n",
    "# Specify the optimizer that is used to perform descent updates\n",
    "optimizer = optim.SGD(estimator.parameters(), lr=epsilon, momentum=0)\n",
    "\n",
    "\n",
    "# Instantiate Data Loaders\n",
    "train_loader = DataLoader(train_dataset, batch_size=batch_size)\n",
    "test_loader = DataLoader(test_dataset, batch_size=batch_size)\n",
    "\n",
    "mse_evolution = []\n",
    "mse_evolution_test = []\n",
    "\n",
    "\n",
    "# Training loop\n",
    "n_epochs = 200\n",
    "# Iterate n_epochs times over the whole dataset.\n",
    "\n",
    "for _ in range(n_epochs):\n",
    "    #iterate over all batches in the dataset\n",
    "    for x_batch, y_batch in train_loader:\n",
    "        \n",
    "        # set gradients to zero\n",
    "        estimator.zero_grad() \n",
    "        \n",
    "        # Compute predictions\n",
    "        yHat = estimator.forward(x_batch).squeeze()\n",
    "        # Compute error\n",
    "        mse = torch.mean((yHat-y_batch)**2)\n",
    "\n",
    "        # Compute gradients\n",
    "        mse.backward()\n",
    "        \n",
    "        # Update parameters\n",
    "        optimizer.step()\n",
    "\n",
    "    epoch_mse = evaluate(train_loader, estimator)    \n",
    "    mse_evolution.append(epoch_mse)\n",
    "    \n",
    "    mseTest = evaluate(test_loader, estimator)  \n",
    "    mse_evolution_test.append(mseTest)\n",
    "\n",
    "# Print train results\n",
    "print(f\"Train loss: {mse_evolution[-1]} \")\n",
    "\n",
    "# Print test results\n",
    "print(f\"Test loss: {mse_evolution_test[-1]} \")\n",
    "_ = plt.plot(mse_evolution, \".\", label=\"train\")\n",
    "_ = plt.title(\"Mean squared error evolution\")\n",
    "_ = plt.xlabel(\"Epoch\")\n",
    "_ = plt.ylabel(\"MSE\")\n",
    "_ = plt.plot(mse_evolution_test, \"-\", label=\"test\")\n",
    "_ = plt.legend()\n",
    "_ = plt.savefig(\"1Ctasfk2.pdf\")\n",
    " "
   ]
  },
  {
   "cell_type": "markdown",
   "metadata": {},
   "source": [
    "## Task 3\n",
    "\n",
    "We will incorporate the gender data that we have so far ignored. To that end encode gender as $\\text{Female} = 1$ and $\\text{Male} = -1$. Redefine the object in Task 1 so that it can now process this information. In this neural network we use a single intermediate layer with $20$ hidden neurons."
   ]
  },
  {
   "cell_type": "code",
   "execution_count": 17,
   "metadata": {},
   "outputs": [],
   "source": [
    "from math import sqrt\n",
    "class TwoLayerNN(torch.nn.Module):\n",
    "    def __init__(self, p1=20):\n",
    "        super().__init__()\n",
    "        # we just modify the input dimension to 3\n",
    "        self.A1 = nn.parameter.Parameter((torch.rand(3, p1)-0.5))\n",
    "        self.A2 = nn.parameter.Parameter((torch.rand(p1, 1)-0.5))\n",
    "    def forward(self, x0):\n",
    "        # compute output of first layer\n",
    "        x1 = relu(torch.matmul(x0, self.A1))\n",
    "        # compute output of second layer\n",
    "        x2 = relu(torch.matmul(x1,self.A2))\n",
    "        return x2"
   ]
  },
  {
   "cell_type": "markdown",
   "metadata": {},
   "source": [
    "## Task 4\n",
    "\n",
    "Divide the data of Lab 1A into a test set with $\\tilde{N} = 100$ samples and use the remaining samples as a training set. Use it to train the neural network of Task 1. \\blue{Add step size suggestions.} Evaluate the training error and the test error. \n",
    "\n",
    "Given that we have decided to use gender information in our decisions, it is fair that we are asked what effect this choice has. Evaluate the average predicted GPA for Female and Male applicants and observe that data can be perilous. Or not. Comment."
   ]
  },
  {
   "cell_type": "code",
   "execution_count": 18,
   "metadata": {},
   "outputs": [],
   "source": [
    "# We use both the normalized HS GPA and the SAT scores\n",
    "# The targets are the normalized Penn GPA values\n",
    "gender =  data_norm[:,3] -  data_norm[:,4]\n",
    "gender = (gender-torch.mean(gender))/torch.std(gender)\n",
    "x = torch.hstack((data_norm[:,:2], gender.unsqueeze(1)))\n",
    "y = data_norm[:,2]\n",
    "\n",
    "# Data\n",
    "train_dataset = TensorDataset(x[train_indices], y[train_indices])\n",
    "test_dataset = TensorDataset(x[test_indices], y[test_indices])"
   ]
  },
  {
   "cell_type": "code",
   "execution_count": 19,
   "metadata": {},
   "outputs": [
    {
     "name": "stdout",
     "output_type": "stream",
     "text": [
      "Train loss: 0.7897461291032101 \n",
      "Test loss: 0.8599131732834959 \n"
     ]
    },
    {
     "data": {
      "image/png": "[encoded data removed]",
      "text/plain": [
       "<Figure size 640x480 with 1 Axes>"
      ]
     },
     "metadata": {},
     "output_type": "display_data"
    }
   ],
   "source": [
    "# Specification of learning parametrization.\n",
    "estimator = TwoLayerNN(40)\n",
    "\n",
    "# Parameters used in training loop\n",
    "epsilon=0.01\n",
    "batch_size = 64\n",
    "\n",
    "# Specify the optimizer that is used to perform descent updates\n",
    "optimizer = optim.SGD(estimator.parameters(), lr=epsilon, momentum=0)\n",
    "\n",
    "\n",
    "# Instantiate Data Loaders\n",
    "train_loader = DataLoader(train_dataset, batch_size=batch_size)\n",
    "test_loader = DataLoader(test_dataset, batch_size=batch_size)\n",
    "\n",
    "mse_evolution = []\n",
    "mse_evolution_test = []\n",
    "\n",
    "\n",
    "# Training loop\n",
    "n_epochs = 200\n",
    "# Iterate n_epochs times over the whole dataset.\n",
    "\n",
    "for _ in range(n_epochs):\n",
    "    #iterate over all batches in the dataset\n",
    "    for x_batch, y_batch in train_loader:\n",
    "        \n",
    "        # set gradients to zero\n",
    "        estimator.zero_grad() \n",
    "        \n",
    "        # Compute predictions\n",
    "        yHat = estimator.forward(x_batch).squeeze()\n",
    "        # Compute error\n",
    "        mse = torch.mean((yHat-y_batch)**2)\n",
    "        # Compute gradients\n",
    "        mse.backward()\n",
    "        \n",
    "        # Update parameters\n",
    "        optimizer.step()\n",
    "    epoch_mse = evaluate(train_loader, estimator)    \n",
    "    mse_evolution.append(epoch_mse)\n",
    "    \n",
    "    mseTest = evaluate(test_loader, estimator)  \n",
    "    mse_evolution_test.append(mseTest)\n",
    "\n",
    "# Print train results\n",
    "print(f\"Train loss: {mse_evolution[-1]} \")\n",
    "\n",
    "# Print test results\n",
    "print(f\"Test loss: {mse_evolution_test[-1]} \")\n",
    "_ = plt.plot(mse_evolution[2:], \".\", label=\"train\")\n",
    "_ = plt.title(\"Mean squared error evolution\")\n",
    "_ = plt.xlabel(\"Epoch\")\n",
    "_ = plt.ylabel(\"MSE\")\n",
    "_ = plt.plot(mse_evolution_test[2:], \"-\", label=\"test\")\n",
    "_ = plt.legend()\n",
    "_ = plt.savefig(\"1Ctasfk4.pdf\")\n",
    " "
   ]
  },
  {
   "cell_type": "code",
   "execution_count": 20,
   "metadata": {},
   "outputs": [
    {
     "name": "stdout",
     "output_type": "stream",
     "text": [
      "Average Male GPA: 3.5958956072204615 \n",
      "Average Female GPA: 3.6118699134595706\n"
     ]
    }
   ],
   "source": [
    "male_indexes = gender < 0\n",
    "male_yHat = torch.mean(estimator.forward(x[male_indexes]).squeeze())\n",
    "\n",
    "female_indexes = gender > 0\n",
    "female_yHat = torch.mean(estimator.forward(x[female_indexes]).squeeze())\n",
    "\n",
    "print(f\"Average Male GPA: {stds[2] * male_yHat + means[2]} \")\n",
    "print(f\"Average Female GPA: {stds[2] * female_yHat + means[2]}\")"
   ]
  }
 ],
 "metadata": {
  "kernelspec": {
   "display_name": "jupy",
   "language": "python",
   "name": "python3"
  },
  "language_info": {
   "codemirror_mode": {
    "name": "ipython",
    "version": 3
   },
   "file_extension": ".py",
   "mimetype": "text/x-python",
   "name": "python",
   "nbconvert_exporter": "python",
   "pygments_lexer": "ipython3",
   "version": "3.8.16"
  },
  "vscode": {
   "interpreter": {
    "hash": "c5718435856700c01991336cb4f6da84b203bf2342c9407134d97da30a70f8ef"
   }
  }
 },
 "nbformat": 4,
 "nbformat_minor": 4
}
